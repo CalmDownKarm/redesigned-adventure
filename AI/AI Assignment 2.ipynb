{
 "cells": [
  {
   "cell_type": "markdown",
   "metadata": {},
   "source": [
    "# AI Assignment 2\n",
    "\n",
    "## Introduction\n",
    "We model the rows as a simple 10x4 matrix, with each column representing a counter and each row representing a quantum of time. our quantum of time is 30 minute intervals, starting from 8:00 till 10:00. We also declare an operator that allocates a flight. "
   ]
  },
  {
   "cell_type": "code",
   "execution_count": 48,
   "metadata": {
    "collapsed": true
   },
   "outputs": [],
   "source": [
    "import copy\n",
    "from itertools import product\n",
    "import pprint \n",
    "pp = pprint.PrettyPrinter(indent=4)\n",
    "timestonum = {1:'8:00',2:'8:30',3:'9:00',4:'9:30'}\n",
    "numstotime = {'8:00':1,'8:30':2,'9:00':3,'9:30':4}"
   ]
  },
  {
   "cell_type": "code",
   "execution_count": 49,
   "metadata": {
    "collapsed": true
   },
   "outputs": [],
   "source": [
    "class state():\n",
    "    def __init__(self):\n",
    "        self.allocated = 0\n",
    "        self.ListofFlights = [('A',4,'8:00'),('B',4,'9:00'),('C',3,'8:30'),('D',2,'8:00')]\n",
    "        self.counters = {}\n",
    "        row  = {'row1':[0 for x in range(0,5)],'row2':[0 for x in range(0,5)]}\n",
    "        for time in ['8:00','8:30','9:00','9:30']:\n",
    "            self.counters[time] = copy.deepcopy(row)\n",
    "    \n",
    "    def check_open_slot(self,time, row, num):\n",
    "        counters = self.counters[time][row].count(0)\n",
    "        return counters if counters >=num else -1\n",
    "    def check_all_allocated(self):\n",
    "        if self.allocated == 4:\n",
    "            return True\n",
    "        return False\n",
    "        \n",
    "    def allocate_counters(self,flight,row,time,starting_point,num_counters):\n",
    "        next_quanta = timestonum[(numstotime[time]+1)]\n",
    "        count = self.check_open_slot(time,row,num_counters)\n",
    "        if count == -1:\n",
    "            print(\"BACTRACK\")\n",
    "            return -1 #Allocation returns -1 then we need to backtrack\n",
    "        self.allocated += 1\n",
    "        if count ==5:\n",
    "            for i in range(num_counters):\n",
    "                self.counters[time][row][(starting_point+i)%5]=flight\n",
    "                self.counters[next_quanta][row][(starting_point+i)%5]=flight\n",
    "        else:\n",
    "            unallocated = num_counters\n",
    "            for i in range(5):\n",
    "                if self.counters[time][row][i] == 0 and \\\n",
    "                self.counters[next_quanta][row][i] == 0 \\\n",
    "                and unallocated>0:\n",
    "                    self.counters[time][row][i]=flight\n",
    "                    self.counters[next_quanta][row][i]=flight\n",
    "                    unallocated-=1\n",
    "            if(unallocated >0):\n",
    "                print('BACKTRACK')\n",
    "                return -1\n",
    "\n",
    "    def clear_counters(self):\n",
    "        for num in product(range(0,5),['8:00','8:30','9:00','9:30'],['row1','row2']):\n",
    "            self.counters[num[1]][num[2]][num[0]] = 0\n",
    "    \n",
    "    def print_counters(self):\n",
    "        print(\"State\")\n",
    "        pp.pprint(self.counters)"
   ]
  },
  {
   "cell_type": "code",
   "execution_count": 50,
   "metadata": {
    "collapsed": true
   },
   "outputs": [],
   "source": [
    "def generate_successors():\n",
    "    state = stateStack.pop()\n",
    "    flight_tuple = state.ListofFlights.pop()\n",
    "    num_counters = flight_tuple[1]\n",
    "    flight = flight_tuple[0]\n",
    "    time = flight_tuple[2]\n",
    "    for i in product(range(5),['row1','row2']):\n",
    "        temp = copy.deepcopy(state)\n",
    "        var = temp.allocate_counters(flight,i[1],time,i[0],num_counters)\n",
    "        if var == -1:\n",
    "            pass\n",
    "        else:\n",
    "            stateStack.append(temp)"
   ]
  },
  {
   "cell_type": "markdown",
   "metadata": {},
   "source": [
    "# DFS WITHBACKTRACKING"
   ]
  },
  {
   "cell_type": "code",
   "execution_count": 51,
   "metadata": {},
   "outputs": [
    {
     "name": "stdout",
     "output_type": "stream",
     "text": [
      "State\n",
      "{   '8:00': {'row1': [0, 0, 0, 0, 0], 'row2': [0, 0, 0, 0, 0]},\n",
      "    '8:30': {'row1': [0, 0, 0, 0, 0], 'row2': [0, 0, 0, 0, 0]},\n",
      "    '9:00': {'row1': [0, 0, 0, 0, 0], 'row2': [0, 0, 0, 0, 0]},\n",
      "    '9:30': {'row1': [0, 0, 0, 0, 0], 'row2': [0, 0, 0, 0, 0]}}\n"
     ]
    }
   ],
   "source": [
    "# INITIALIZE\n",
    "stateStack = []\n",
    "A = state()\n",
    "stateStack.append(A)\n",
    "stateStack[0].print_counters()"
   ]
  },
  {
   "cell_type": "code",
   "execution_count": 52,
   "metadata": {
    "scrolled": true
   },
   "outputs": [
    {
     "name": "stdout",
     "output_type": "stream",
     "text": [
      "___________________\n",
      "0\n",
      "Stack Length 10\n",
      "___________________\n",
      "1\n",
      "Stack Length 19\n",
      "___________________\n",
      "2\n",
      "BACTRACK\n",
      "BACTRACK\n",
      "BACTRACK\n",
      "BACTRACK\n",
      "BACTRACK\n",
      "Stack Length 23\n",
      "___________________\n",
      "3\n",
      "BACTRACK\n",
      "BACTRACK\n",
      "BACTRACK\n",
      "BACTRACK\n",
      "BACTRACK\n",
      "Stack Length 27\n",
      "State\n",
      "{   '8:00': {'row1': ['A', 'A', 'A', 0, 'A'], 'row2': ['D', 0, 0, 0, 'D']},\n",
      "    '8:30': {   'row1': ['A', 'A', 'A', 0, 'A'],\n",
      "                'row2': ['D', 'C', 'C', 'C', 'D']},\n",
      "    '9:00': {'row1': ['B', 'B', 'B', 0, 'B'], 'row2': [0, 'C', 'C', 'C', 0]},\n",
      "    '9:30': {'row1': ['B', 'B', 'B', 0, 'B'], 'row2': [0, 0, 0, 0, 0]}}\n"
     ]
    }
   ],
   "source": [
    "loop = True\n",
    "iterationcount = 0\n",
    "while(loop):\n",
    "    print ('___________________')\n",
    "    print(iterationcount)\n",
    "    iterationcount+=1\n",
    "    generate_successors()\n",
    "    print(\"Stack Length \"+ repr(len(stateStack)))\n",
    "    if stateStack[-1].check_all_allocated():\n",
    "        loop = False\n",
    "        stateStack[-1].print_counters()\n",
    "    "
   ]
  }
 ],
 "metadata": {
  "kernelspec": {
   "display_name": "Python 3",
   "language": "python",
   "name": "python3"
  },
  "language_info": {
   "codemirror_mode": {
    "name": "ipython",
    "version": 3
   },
   "file_extension": ".py",
   "mimetype": "text/x-python",
   "name": "python",
   "nbconvert_exporter": "python",
   "pygments_lexer": "ipython3",
   "version": "3.6.2"
  }
 },
 "nbformat": 4,
 "nbformat_minor": 2
}
