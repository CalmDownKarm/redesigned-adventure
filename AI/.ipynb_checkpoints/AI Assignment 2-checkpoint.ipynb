{
 "cells": [
  {
   "cell_type": "markdown",
   "metadata": {},
   "source": [
    "# AI Assignment 2\n",
    "\n",
    "## Introduction\n",
    "We model the rows as a simple 10x4 matrix, with each column representing a counter and each row representing a quantum of time. our quantum of time is 30 minute intervals, starting from 8:00 till 10:00. We also declare an operator that allocates a flight. "
   ]
  },
  {
   "cell_type": "code",
   "execution_count": 37,
   "metadata": {
    "collapsed": true
   },
   "outputs": [],
   "source": [
    "import copy\n",
    "from itertools import product\n",
    "import pprint \n",
    "pp = pprint.PrettyPrinter(indent=4)\n"
   ]
  },
  {
   "cell_type": "code",
   "execution_count": null,
   "metadata": {
    "collapsed": true
   },
   "outputs": [],
   "source": [
    "timestonum = {1:'8:00',2:'8:30',3:'9:00',4:'9:30'}\n",
    "numstotime = {'8:00':1,'8:30':2,'9:00':3,'9:30':4}"
   ]
  },
  {
   "cell_type": "code",
   "execution_count": 57,
   "metadata": {},
   "outputs": [],
   "source": [
    "class state():\n",
    "    def __init__(self):\n",
    "        row  = {'row1':[0 for x in range(0,5)],'row2':[0 for x in range(0,5)]}\n",
    "        self.counters = {}\n",
    "        for time in ['8:00','8:30','9:00','9:30']:\n",
    "            self.counters[time] = copy.deepcopy(row)\n",
    "    \n",
    "    def allocate_counters(self,flight,row,time,starting_point,num_counters):\n",
    "        next_quanta = timestonum[(numstotime[time]+1)] #Need to be careful of overflowing this.\n",
    "        for num in range(starting_point,starting_point+num_counters):\n",
    "            self.counters[time][row][num] = flight\n",
    "            self.counters[next_quanta][row][num] = flight   \n",
    "\n",
    "    def clear_counters(self):\n",
    "        for num in product(range(0,5),['8:00','8:30','9:00','9:30'],['row1','row2']):\n",
    "            self.counters[num[1]][num[2]][num[0]] = 0\n",
    "    \n",
    "    def print_counters(self):\n",
    "        pp.pprint(self.counters)"
   ]
  },
  {
   "cell_type": "code",
   "execution_count": 58,
   "metadata": {},
   "outputs": [
    {
     "name": "stdout",
     "output_type": "stream",
     "text": [
      "{   '8:00': {'row1': [0, 0, 0, 0, 0], 'row2': [0, 0, 0, 0, 0]},\n",
      "    '8:30': {'row1': [0, 0, 0, 0, 0], 'row2': [0, 0, 0, 0, 0]},\n",
      "    '9:00': {'row1': [0, 0, 0, 0, 0], 'row2': [0, 0, 0, 0, 0]},\n",
      "    '9:30': {'row1': [0, 0, 0, 0, 0], 'row2': [0, 0, 0, 0, 0]}}\n",
      "{   '8:00': {'row1': [0, 0, 0, 0, 0], 'row2': [0, 0, 0, 0, 0]},\n",
      "    '8:30': {'row1': [0, 0, 0, 0, 0], 'row2': [0, 0, 0, 0, 0]},\n",
      "    '9:00': {'row1': [0, 'A', 'A', 'A', 'A'], 'row2': [0, 0, 0, 0, 0]},\n",
      "    '9:30': {'row1': [0, 'A', 'A', 'A', 'A'], 'row2': [0, 0, 0, 0, 0]}}\n",
      "{   '8:00': {'row1': [0, 0, 0, 0, 0], 'row2': [0, 0, 0, 0, 0]},\n",
      "    '8:30': {'row1': [0, 0, 0, 0, 0], 'row2': [0, 0, 0, 0, 0]},\n",
      "    '9:00': {'row1': [0, 0, 0, 0, 0], 'row2': [0, 0, 0, 0, 0]},\n",
      "    '9:30': {'row1': [0, 0, 0, 0, 0], 'row2': [0, 0, 0, 0, 0]}}\n"
     ]
    }
   ],
   "source": [
    "A = state()\n",
    "A.print_counters()\n",
    "A.allocate_counters('A','row1','9:00',1,4)\n",
    "A.print_counters()\n",
    "A.clear_counters()\n",
    "A.print_counters()"
   ]
  },
  {
   "cell_type": "code",
   "execution_count": null,
   "metadata": {
    "collapsed": true
   },
   "outputs": [],
   "source": []
  }
 ],
 "metadata": {
  "kernelspec": {
   "display_name": "Python 3",
   "language": "python",
   "name": "python3"
  },
  "language_info": {
   "codemirror_mode": {
    "name": "ipython",
    "version": 3
   },
   "file_extension": ".py",
   "mimetype": "text/x-python",
   "name": "python",
   "nbconvert_exporter": "python",
   "pygments_lexer": "ipython3",
   "version": "3.6.2"
  }
 },
 "nbformat": 4,
 "nbformat_minor": 2
}
